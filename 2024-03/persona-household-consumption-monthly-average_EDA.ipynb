{
 "cells": [
  {
   "cell_type": "code",
   "execution_count": 32,
   "metadata": {},
   "outputs": [],
   "source": [
    "# 1: Uvoz biblioteka i učitavanje podataka\n",
    "\n",
    "import numpy as np\n",
    "import pandas as pd\n",
    "import matplotlib.pyplot as plt\n",
    "%matplotlib inline\n",
    "import seaborn as sns\n",
    "from matplotlib import rcParams\n",
    "\n",
    "# Stilizacija grafikona\n",
    "plt.style.use(\"ggplot\")\n",
    "rcParams['figure.figsize'] = (12, 6)\n",
    "\n",
    "# Ucitavanje podataka o potrosnji\n",
    "data_path = 'Datasets/PERSONAL HOUSEHOLD CONSUMPTION, MONTHLY AVERAGE.csv'\n",
    "data = pd.read_csv(data_path, sep=';')\n",
    "\n",
    "# Ucitavanje podataka o platama\n",
    "salary_data_path = 'Datasets/plate-godisnji-prosek.xlsx'\n",
    "salary_data = pd.read_excel(salary_data_path)\n",
    "\n",
    "# Izracunavanje procesne mesecne zarade\n",
    "salary_data['Prosecna mesecna zarada'] = salary_data['Prosecna godisnja zarada'] / 12\n"
   ]
  },
  {
   "cell_type": "code",
   "execution_count": 33,
   "metadata": {},
   "outputs": [
    {
     "name": "stdout",
     "output_type": "stream",
     "text": [
      "idindikator         object\n",
      "IDTer               object\n",
      "nTer                object\n",
      "IDTipNaselja        object\n",
      "nTipNaselja         object\n",
      "mes                  int64\n",
      "god                  int64\n",
      "IDVrPod              int64\n",
      "nVrPod              object\n",
      "IDCOICOP             int64\n",
      "nCOICOP             object\n",
      "vrednost           float64\n",
      "idJedinicaMere     float64\n",
      "nJedinicaMere      float64\n",
      "nIzvorI             object\n",
      "Indikator           object\n",
      "IDStatusPodatka     object\n",
      "nStatusPodatka      object\n",
      "dtype: object\n"
     ]
    }
   ],
   "source": [
    "# Provera tipova podataka\n",
    "data_types = data.dtypes\n",
    "print(data_types)"
   ]
  },
  {
   "cell_type": "code",
   "execution_count": 34,
   "metadata": {},
   "outputs": [
    {
     "data": {
      "text/plain": [
       "(6240, 18)"
      ]
     },
     "execution_count": 34,
     "metadata": {},
     "output_type": "execute_result"
    }
   ],
   "source": [
    "# Provera dimenzije podataka\n",
    "np.shape(data)"
   ]
  },
  {
   "cell_type": "code",
   "execution_count": 35,
   "metadata": {},
   "outputs": [],
   "source": [
    "\n",
    "# Provera nedostajućih vrednosti\n",
    "missing_values = data.isnull().sum()"
   ]
  },
  {
   "cell_type": "code",
   "execution_count": 36,
   "metadata": {},
   "outputs": [
    {
     "data": {
      "text/html": [
       "<div>\n",
       "<style scoped>\n",
       "    .dataframe tbody tr th:only-of-type {\n",
       "        vertical-align: middle;\n",
       "    }\n",
       "\n",
       "    .dataframe tbody tr th {\n",
       "        vertical-align: top;\n",
       "    }\n",
       "\n",
       "    .dataframe thead th {\n",
       "        text-align: right;\n",
       "    }\n",
       "</style>\n",
       "<table border=\"1\" class=\"dataframe\">\n",
       "  <thead>\n",
       "    <tr style=\"text-align: right;\">\n",
       "      <th></th>\n",
       "      <th>idindikator</th>\n",
       "      <th>IDTer</th>\n",
       "      <th>nTer</th>\n",
       "      <th>IDTipNaselja</th>\n",
       "      <th>nTipNaselja</th>\n",
       "      <th>mes</th>\n",
       "      <th>god</th>\n",
       "      <th>IDVrPod</th>\n",
       "      <th>nVrPod</th>\n",
       "      <th>IDCOICOP</th>\n",
       "      <th>nCOICOP</th>\n",
       "      <th>vrednost</th>\n",
       "      <th>idJedinicaMere</th>\n",
       "      <th>nJedinicaMere</th>\n",
       "      <th>nIzvorI</th>\n",
       "      <th>Indikator</th>\n",
       "      <th>IDStatusPodatka</th>\n",
       "      <th>nStatusPodatka</th>\n",
       "    </tr>\n",
       "  </thead>\n",
       "  <tbody>\n",
       "    <tr>\n",
       "      <th>0</th>\n",
       "      <td>010201IND01</td>\n",
       "      <td>RS</td>\n",
       "      <td>REPUBLIC OF SERBIA</td>\n",
       "      <td>0</td>\n",
       "      <td>Total</td>\n",
       "      <td>0</td>\n",
       "      <td>2006</td>\n",
       "      <td>1</td>\n",
       "      <td>RSD</td>\n",
       "      <td>0</td>\n",
       "      <td>Total</td>\n",
       "      <td>33910.0</td>\n",
       "      <td>NaN</td>\n",
       "      <td>NaN</td>\n",
       "      <td>SORS</td>\n",
       "      <td>Personal household consumption, monthly average</td>\n",
       "      <td>A</td>\n",
       "      <td>Normal value</td>\n",
       "    </tr>\n",
       "    <tr>\n",
       "      <th>1</th>\n",
       "      <td>010201IND01</td>\n",
       "      <td>RS</td>\n",
       "      <td>REPUBLIC OF SERBIA</td>\n",
       "      <td>0</td>\n",
       "      <td>Total</td>\n",
       "      <td>0</td>\n",
       "      <td>2006</td>\n",
       "      <td>2</td>\n",
       "      <td>structure, %</td>\n",
       "      <td>0</td>\n",
       "      <td>Total</td>\n",
       "      <td>100.0</td>\n",
       "      <td>NaN</td>\n",
       "      <td>NaN</td>\n",
       "      <td>SORS</td>\n",
       "      <td>Personal household consumption, monthly average</td>\n",
       "      <td>A</td>\n",
       "      <td>Normal value</td>\n",
       "    </tr>\n",
       "    <tr>\n",
       "      <th>2</th>\n",
       "      <td>010201IND01</td>\n",
       "      <td>RS</td>\n",
       "      <td>REPUBLIC OF SERBIA</td>\n",
       "      <td>0</td>\n",
       "      <td>Total</td>\n",
       "      <td>0</td>\n",
       "      <td>2006</td>\n",
       "      <td>1</td>\n",
       "      <td>RSD</td>\n",
       "      <td>100</td>\n",
       "      <td>Food and non-alcoholic beverages</td>\n",
       "      <td>13241.0</td>\n",
       "      <td>NaN</td>\n",
       "      <td>NaN</td>\n",
       "      <td>SORS</td>\n",
       "      <td>Personal household consumption, monthly average</td>\n",
       "      <td>A</td>\n",
       "      <td>Normal value</td>\n",
       "    </tr>\n",
       "    <tr>\n",
       "      <th>3</th>\n",
       "      <td>010201IND01</td>\n",
       "      <td>RS</td>\n",
       "      <td>REPUBLIC OF SERBIA</td>\n",
       "      <td>0</td>\n",
       "      <td>Total</td>\n",
       "      <td>0</td>\n",
       "      <td>2006</td>\n",
       "      <td>2</td>\n",
       "      <td>structure, %</td>\n",
       "      <td>100</td>\n",
       "      <td>Food and non-alcoholic beverages</td>\n",
       "      <td>39.0</td>\n",
       "      <td>NaN</td>\n",
       "      <td>NaN</td>\n",
       "      <td>SORS</td>\n",
       "      <td>Personal household consumption, monthly average</td>\n",
       "      <td>A</td>\n",
       "      <td>Normal value</td>\n",
       "    </tr>\n",
       "    <tr>\n",
       "      <th>4</th>\n",
       "      <td>010201IND01</td>\n",
       "      <td>RS</td>\n",
       "      <td>REPUBLIC OF SERBIA</td>\n",
       "      <td>0</td>\n",
       "      <td>Total</td>\n",
       "      <td>0</td>\n",
       "      <td>2006</td>\n",
       "      <td>1</td>\n",
       "      <td>RSD</td>\n",
       "      <td>200</td>\n",
       "      <td>Alcoholic beverages, tobacco and narcotics</td>\n",
       "      <td>1478.0</td>\n",
       "      <td>NaN</td>\n",
       "      <td>NaN</td>\n",
       "      <td>SORS</td>\n",
       "      <td>Personal household consumption, monthly average</td>\n",
       "      <td>A</td>\n",
       "      <td>Normal value</td>\n",
       "    </tr>\n",
       "  </tbody>\n",
       "</table>\n",
       "</div>"
      ],
      "text/plain": [
       "   idindikator IDTer                nTer IDTipNaselja nTipNaselja  mes   god  \\\n",
       "0  010201IND01    RS  REPUBLIC OF SERBIA            0       Total    0  2006   \n",
       "1  010201IND01    RS  REPUBLIC OF SERBIA            0       Total    0  2006   \n",
       "2  010201IND01    RS  REPUBLIC OF SERBIA            0       Total    0  2006   \n",
       "3  010201IND01    RS  REPUBLIC OF SERBIA            0       Total    0  2006   \n",
       "4  010201IND01    RS  REPUBLIC OF SERBIA            0       Total    0  2006   \n",
       "\n",
       "   IDVrPod        nVrPod  IDCOICOP  \\\n",
       "0        1           RSD         0   \n",
       "1        2  structure, %         0   \n",
       "2        1           RSD       100   \n",
       "3        2  structure, %       100   \n",
       "4        1           RSD       200   \n",
       "\n",
       "                                      nCOICOP  vrednost  idJedinicaMere  \\\n",
       "0                                       Total   33910.0             NaN   \n",
       "1                                       Total     100.0             NaN   \n",
       "2            Food and non-alcoholic beverages   13241.0             NaN   \n",
       "3            Food and non-alcoholic beverages      39.0             NaN   \n",
       "4  Alcoholic beverages, tobacco and narcotics    1478.0             NaN   \n",
       "\n",
       "   nJedinicaMere nIzvorI                                        Indikator  \\\n",
       "0            NaN    SORS  Personal household consumption, monthly average   \n",
       "1            NaN    SORS  Personal household consumption, monthly average   \n",
       "2            NaN    SORS  Personal household consumption, monthly average   \n",
       "3            NaN    SORS  Personal household consumption, monthly average   \n",
       "4            NaN    SORS  Personal household consumption, monthly average   \n",
       "\n",
       "  IDStatusPodatka nStatusPodatka  \n",
       "0               A   Normal value  \n",
       "1               A   Normal value  \n",
       "2               A   Normal value  \n",
       "3               A   Normal value  \n",
       "4               A   Normal value  "
      ]
     },
     "execution_count": 36,
     "metadata": {},
     "output_type": "execute_result"
    }
   ],
   "source": [
    "# Koristimo Pandas DataFrame za bolju strukturu podataka\n",
    "df = pd.DataFrame(data)\n",
    "df.head()"
   ]
  },
  {
   "cell_type": "code",
   "execution_count": 37,
   "metadata": {},
   "outputs": [
    {
     "data": {
      "text/html": [
       "<div>\n",
       "<style scoped>\n",
       "    .dataframe tbody tr th:only-of-type {\n",
       "        vertical-align: middle;\n",
       "    }\n",
       "\n",
       "    .dataframe tbody tr th {\n",
       "        vertical-align: top;\n",
       "    }\n",
       "\n",
       "    .dataframe thead th {\n",
       "        text-align: right;\n",
       "    }\n",
       "</style>\n",
       "<table border=\"1\" class=\"dataframe\">\n",
       "  <thead>\n",
       "    <tr style=\"text-align: right;\">\n",
       "      <th></th>\n",
       "      <th>mes</th>\n",
       "      <th>god</th>\n",
       "      <th>IDVrPod</th>\n",
       "      <th>IDCOICOP</th>\n",
       "      <th>vrednost</th>\n",
       "      <th>idJedinicaMere</th>\n",
       "      <th>nJedinicaMere</th>\n",
       "    </tr>\n",
       "  </thead>\n",
       "  <tbody>\n",
       "    <tr>\n",
       "      <th>count</th>\n",
       "      <td>6240.0</td>\n",
       "      <td>6240.000000</td>\n",
       "      <td>6240.00000</td>\n",
       "      <td>6240.000000</td>\n",
       "      <td>6240.000000</td>\n",
       "      <td>0.0</td>\n",
       "      <td>0.0</td>\n",
       "    </tr>\n",
       "    <tr>\n",
       "      <th>mean</th>\n",
       "      <td>0.0</td>\n",
       "      <td>2013.625000</td>\n",
       "      <td>1.50000</td>\n",
       "      <td>600.000000</td>\n",
       "      <td>4217.537179</td>\n",
       "      <td>NaN</td>\n",
       "      <td>NaN</td>\n",
       "    </tr>\n",
       "    <tr>\n",
       "      <th>std</th>\n",
       "      <td>0.0</td>\n",
       "      <td>4.807606</td>\n",
       "      <td>0.50004</td>\n",
       "      <td>374.195724</td>\n",
       "      <td>11280.801653</td>\n",
       "      <td>NaN</td>\n",
       "      <td>NaN</td>\n",
       "    </tr>\n",
       "    <tr>\n",
       "      <th>min</th>\n",
       "      <td>0.0</td>\n",
       "      <td>2006.000000</td>\n",
       "      <td>1.00000</td>\n",
       "      <td>0.000000</td>\n",
       "      <td>0.100000</td>\n",
       "      <td>NaN</td>\n",
       "      <td>NaN</td>\n",
       "    </tr>\n",
       "    <tr>\n",
       "      <th>25%</th>\n",
       "      <td>0.0</td>\n",
       "      <td>2009.750000</td>\n",
       "      <td>1.00000</td>\n",
       "      <td>300.000000</td>\n",
       "      <td>5.100000</td>\n",
       "      <td>NaN</td>\n",
       "      <td>NaN</td>\n",
       "    </tr>\n",
       "    <tr>\n",
       "      <th>50%</th>\n",
       "      <td>0.0</td>\n",
       "      <td>2013.500000</td>\n",
       "      <td>1.50000</td>\n",
       "      <td>600.000000</td>\n",
       "      <td>100.000000</td>\n",
       "      <td>NaN</td>\n",
       "      <td>NaN</td>\n",
       "    </tr>\n",
       "    <tr>\n",
       "      <th>75%</th>\n",
       "      <td>0.0</td>\n",
       "      <td>2017.250000</td>\n",
       "      <td>2.00000</td>\n",
       "      <td>900.000000</td>\n",
       "      <td>2922.250000</td>\n",
       "      <td>NaN</td>\n",
       "      <td>NaN</td>\n",
       "    </tr>\n",
       "    <tr>\n",
       "      <th>max</th>\n",
       "      <td>0.0</td>\n",
       "      <td>2022.000000</td>\n",
       "      <td>2.00000</td>\n",
       "      <td>1200.000000</td>\n",
       "      <td>88083.000000</td>\n",
       "      <td>NaN</td>\n",
       "      <td>NaN</td>\n",
       "    </tr>\n",
       "  </tbody>\n",
       "</table>\n",
       "</div>"
      ],
      "text/plain": [
       "          mes          god     IDVrPod     IDCOICOP      vrednost  \\\n",
       "count  6240.0  6240.000000  6240.00000  6240.000000   6240.000000   \n",
       "mean      0.0  2013.625000     1.50000   600.000000   4217.537179   \n",
       "std       0.0     4.807606     0.50004   374.195724  11280.801653   \n",
       "min       0.0  2006.000000     1.00000     0.000000      0.100000   \n",
       "25%       0.0  2009.750000     1.00000   300.000000      5.100000   \n",
       "50%       0.0  2013.500000     1.50000   600.000000    100.000000   \n",
       "75%       0.0  2017.250000     2.00000   900.000000   2922.250000   \n",
       "max       0.0  2022.000000     2.00000  1200.000000  88083.000000   \n",
       "\n",
       "       idJedinicaMere  nJedinicaMere  \n",
       "count             0.0            0.0  \n",
       "mean              NaN            NaN  \n",
       "std               NaN            NaN  \n",
       "min               NaN            NaN  \n",
       "25%               NaN            NaN  \n",
       "50%               NaN            NaN  \n",
       "75%               NaN            NaN  \n",
       "max               NaN            NaN  "
      ]
     },
     "execution_count": 37,
     "metadata": {},
     "output_type": "execute_result"
    }
   ],
   "source": [
    "# Osnovne statistike podataka - Opis\n",
    "df.describe()"
   ]
  },
  {
   "cell_type": "code",
   "execution_count": 38,
   "metadata": {},
   "outputs": [
    {
     "name": "stdout",
     "output_type": "stream",
     "text": [
      "<class 'pandas.core.frame.DataFrame'>\n",
      "RangeIndex: 6240 entries, 0 to 6239\n",
      "Data columns (total 18 columns):\n",
      " #   Column           Non-Null Count  Dtype  \n",
      "---  ------           --------------  -----  \n",
      " 0   idindikator      6240 non-null   object \n",
      " 1   IDTer            6240 non-null   object \n",
      " 2   nTer             6240 non-null   object \n",
      " 3   IDTipNaselja     6240 non-null   object \n",
      " 4   nTipNaselja      6240 non-null   object \n",
      " 5   mes              6240 non-null   int64  \n",
      " 6   god              6240 non-null   int64  \n",
      " 7   IDVrPod          6240 non-null   int64  \n",
      " 8   nVrPod           6240 non-null   object \n",
      " 9   IDCOICOP         6240 non-null   int64  \n",
      " 10  nCOICOP          6240 non-null   object \n",
      " 11  vrednost         6240 non-null   float64\n",
      " 12  idJedinicaMere   0 non-null      float64\n",
      " 13  nJedinicaMere    0 non-null      float64\n",
      " 14  nIzvorI          6240 non-null   object \n",
      " 15  Indikator        6240 non-null   object \n",
      " 16  IDStatusPodatka  6240 non-null   object \n",
      " 17  nStatusPodatka   6240 non-null   object \n",
      "dtypes: float64(3), int64(4), object(11)\n",
      "memory usage: 877.6+ KB\n"
     ]
    }
   ],
   "source": [
    "# Osnovne statistike podataka - Opis\n",
    "df.info()"
   ]
  },
  {
   "cell_type": "code",
   "execution_count": 39,
   "metadata": {},
   "outputs": [
    {
     "data": {
      "text/plain": [
       "0"
      ]
     },
     "execution_count": 39,
     "metadata": {},
     "output_type": "execute_result"
    }
   ],
   "source": [
    "# Provera duplikata\n",
    "df.duplicated().sum()"
   ]
  },
  {
   "cell_type": "code",
   "execution_count": 40,
   "metadata": {},
   "outputs": [
    {
     "data": {
      "text/plain": [
       "nTer\n",
       "REPUBLIC OF SERBIA                  1248\n",
       "Beogradski region                   1248\n",
       "Region Vojvodine                    1248\n",
       "Region Šumadije i Zapadne Srbije    1248\n",
       "Region Južne i Istočne Srbije       1248\n",
       "Name: count, dtype: int64"
      ]
     },
     "execution_count": 40,
     "metadata": {},
     "output_type": "execute_result"
    }
   ],
   "source": [
    "# Provera vrednosti (koliko imamo podataka)\n",
    "df.nTer.value_counts()"
   ]
  },
  {
   "cell_type": "code",
   "execution_count": 41,
   "metadata": {},
   "outputs": [
    {
     "data": {
      "text/plain": [
       "nCOICOP\n",
       "Total                                                                 480\n",
       "Food and non-alcoholic beverages                                      480\n",
       "Alcoholic beverages, tobacco and narcotics                            480\n",
       "Clothing and footwear                                                 480\n",
       "Housing, water, electricity, gas and other fuels                      480\n",
       "Furnishings, household equipment and routine household maintenance    480\n",
       "Health                                                                480\n",
       "Transport                                                             480\n",
       "Communication                                                         480\n",
       "Recreation and culture                                                480\n",
       "Education                                                             480\n",
       "Restaurants and hotels                                                480\n",
       "Miscellaneous goods and services                                      480\n",
       "Name: count, dtype: int64"
      ]
     },
     "execution_count": 41,
     "metadata": {},
     "output_type": "execute_result"
    }
   ],
   "source": [
    "# Provera vrednosti (koliko imamo podataka)\n",
    "df.nCOICOP.value_counts()"
   ]
  },
  {
   "cell_type": "code",
   "execution_count": 42,
   "metadata": {},
   "outputs": [],
   "source": [
    "# ------- Vizualizacija podataka ------- #"
   ]
  },
  {
   "cell_type": "code",
   "execution_count": 43,
   "metadata": {},
   "outputs": [
    {
     "data": {
      "image/png": "[encoded data removed]",
      "text/plain": [
       "<Figure size 1200x600 with 1 Axes>"
      ]
     },
     "metadata": {},
     "output_type": "display_data"
    },
    {
     "data": {
      "text/plain": [
       "<Figure size 1400x800 with 0 Axes>"
      ]
     },
     "metadata": {},
     "output_type": "display_data"
    }
   ],
   "source": [
    "# Prikaz zastupljenosti potrosnje u vrednosti RSD\n",
    "hist_vrednost = df[(df['nVrPod'] == 'RSD') & (data['nCOICOP'] == 'Total') & (data['nTipNaselja'] != 'Total')]\n",
    "# Definisanje opsega za bins\n",
    "bins = [20000, 30000, 40000, 50000, 60000, 70000, 80000, 90000]\n",
    "# Crtanje histograma\n",
    "plt.hist(hist_vrednost.vrednost,bins=bins)\n",
    "# Podesavanje x-ose\n",
    "plt.xticks(range(20000,90000,10000), rotation=90)\n",
    "# Podesavanje velicine grafa\n",
    "plt.figure(figsize=(14,8))\n",
    "# Prikazivanje grafikona\n",
    "plt.show()"
   ]
  },
  {
   "cell_type": "code",
   "execution_count": 44,
   "metadata": {},
   "outputs": [
    {
     "name": "stderr",
     "output_type": "stream",
     "text": [
      "C:\\Users\\nenad\\AppData\\Local\\Packages\\PythonSoftwareFoundation.Python.3.11_qbz5n2kfra8p0\\LocalCache\\local-packages\\Python311\\site-packages\\seaborn\\axisgrid.py:118: UserWarning: The figure layout has changed to tight\n",
      "  self._figure.tight_layout(*args, **kwargs)\n"
     ]
    },
    {
     "data": {
      "text/plain": [
       "<seaborn.axisgrid.PairGrid at 0x25cb1ba6910>"
      ]
     },
     "execution_count": 44,
     "metadata": {},
     "output_type": "execute_result"
    },
    {
     "data": {
      "image/png": "[encoded data removed]",
      "text/plain": [
       "<Figure size 500x500 with 6 Axes>"
      ]
     },
     "metadata": {},
     "output_type": "display_data"
    }
   ],
   "source": [
    "sns.pairplot(df, vars=['god','vrednost'])"
   ]
  },
  {
   "cell_type": "code",
   "execution_count": null,
   "metadata": {},
   "outputs": [],
   "source": [
    "# Priprema podataka za potrošnju po godinama\n",
    "data_total_rsd = data[(data['nCOICOP'] == 'Total') & (data['nVrPod'] == 'RSD') & (data['nTer'] == 'REPUBLIC OF SERBIA')]\n",
    "\n",
    "# Priprema podataka za potrošnju po tipu naselja\n",
    "data_by_settlement_type = data[(data['nTipNaselja'] != 'Total') & (data['nCOICOP'] == 'Total') & (data['nVrPod'] == 'RSD') & (data['nTer'] == 'REPUBLIC OF SERBIA')]\n",
    "\n",
    "# Spajanje podataka o potrošnji i zaradi\n",
    "combined_data = data_total_rsd.merge(salary_data, left_on='god', right_on='Godina', how='left')\n",
    "\n",
    "\n",
    "# Vizualizacija ukupne potrošnje, prosečnih mesečnih zarada i potrošnje po tipu naselja\n",
    "plt.figure(figsize=(14, 8))\n",
    "sns.lineplot(x='god', y='vrednost', data=combined_data, marker='o', label='Ukupna potrošnja (RSD)', color='blue')\n",
    "sns.lineplot(x='god', y='Prosecna mesecna zarada', data=combined_data, marker='o', color='red', label='Prosečna mesečna zarada')\n",
    "sns.lineplot(x='god', y='vrednost', hue='nTipNaselja', data=data_by_settlement_type, marker='o', palette='deep')\n",
    "\n",
    "# Formatiranje grafikona\n",
    "plt.title('Potrošnja i Prosečna mesečna zarada u Republici Srbiji po godinama i tipu naselja')\n",
    "plt.xlabel('Godina')\n",
    "plt.ylabel('Vrednost / Zarada')\n",
    "plt.xticks(combined_data['god'].unique())\n",
    "plt.legend(title='Legenda', bbox_to_anchor=(1.05, 1), loc='upper left')\n",
    "plt.grid(True)\n",
    "plt.tight_layout()\n",
    "plt.show()"
   ]
  },
  {
   "cell_type": "code",
   "execution_count": null,
   "metadata": {},
   "outputs": [],
   "source": [
    "# Filtriranje podataka za sve kategorije osim 'Total'\n",
    "data_not_total_rsd = data[(data['nCOICOP'] != 'Total') & (data['nVrPod'] == 'RSD') & (data['nTer'] == 'REPUBLIC OF SERBIA')]\n",
    "\n",
    "# Sortiranje podataka po godinama i kategorijama za korektno prikazivanje u grafikonu\n",
    "data_not_total_rsd_sorted = data_not_total_rsd.sort_values(by=['god', 'IDCOICOP'])\n",
    "\n",
    "# Vizualizacija potrošnje po kategorijama\n",
    "plt.figure(figsize=(14, 8))\n",
    "sns.lineplot(x='god', y='vrednost', hue='nCOICOP', data=data_not_total_rsd_sorted, marker='o', palette='tab10')\n",
    "\n",
    "# Formatiranje grafikona\n",
    "plt.title('Potrošnja u Republici Srbiji po Kategorijama (osim Total) po godinama')\n",
    "plt.xlabel('Godina')\n",
    "plt.ylabel('Vrednost')\n",
    "plt.xticks(data_not_total_rsd_sorted['god'].unique())\n",
    "plt.legend(title='Kategorija', bbox_to_anchor=(1.05, 1), loc='upper left')\n",
    "plt.grid(True)\n",
    "plt.tight_layout()\n",
    "plt.show()\n"
   ]
  },
  {
   "cell_type": "code",
   "execution_count": null,
   "metadata": {},
   "outputs": [],
   "source": [
    "# Graf A - Potrošnja po Kategorijama\n",
    "plt.figure(figsize=(14, 6))\n",
    "sns.lineplot(data=data_graph_a, x='god', y='vrednost', hue='nCOICOP', palette='tab10')\n",
    "plt.title('Potrošnja po Kategorijama - Graf A')\n",
    "plt.xlabel('Godina')\n",
    "plt.ylabel('Vrednost')\n",
    "plt.legend(title='Kategorija', bbox_to_anchor=(1.05, 1), loc='upper left')\n",
    "plt.grid(True)\n",
    "plt.show()\n"
   ]
  },
  {
   "cell_type": "code",
   "execution_count": null,
   "metadata": {},
   "outputs": [],
   "source": [
    "# Graf B - Potrošnja po Kategorijama\n",
    "plt.figure(figsize=(14, 6))\n",
    "sns.lineplot(data=data_graph_b, x='god', y='vrednost', hue='nCOICOP', palette='tab10')\n",
    "plt.title('Potrošnja po Kategorijama - Graf B')\n",
    "plt.xlabel('Godina')\n",
    "plt.ylabel('Vrednost')\n",
    "plt.legend(title='Kategorija', bbox_to_anchor=(1.05, 1), loc='upper left')\n",
    "plt.grid(True)\n",
    "plt.show()\n"
   ]
  },
  {
   "cell_type": "code",
   "execution_count": null,
   "metadata": {},
   "outputs": [],
   "source": [
    "# Graf C - Potrošnja po Kategorijama\n",
    "plt.figure(figsize=(14, 6))\n",
    "sns.lineplot(data=data_graph_c, x='god', y='vrednost', hue='nCOICOP', palette='tab10')\n",
    "plt.title('Potrošnja po Kategorijama - Graf C')\n",
    "plt.xlabel('Godina')\n",
    "plt.ylabel('Vrednost')\n",
    "plt.legend(title='Kategorija', bbox_to_anchor=(1.05, 1), loc='upper left')\n",
    "plt.grid(True)\n",
    "plt.show()\n"
   ]
  }
 ],
 "metadata": {
  "kernelspec": {
   "display_name": "Python 3",
   "language": "python",
   "name": "python3"
  },
  "language_info": {
   "codemirror_mode": {
    "name": "ipython",
    "version": 3
   },
   "file_extension": ".py",
   "mimetype": "text/x-python",
   "name": "python",
   "nbconvert_exporter": "python",
   "pygments_lexer": "ipython3",
   "version": "3.11.8"
  }
 },
 "nbformat": 4,
 "nbformat_minor": 2
}

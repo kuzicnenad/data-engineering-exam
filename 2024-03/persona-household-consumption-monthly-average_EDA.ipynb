{
 "cells": [
  {
   "cell_type": "code",
   "execution_count": null,
   "metadata": {},
   "outputs": [],
   "source": [
    "# 1: Uvoz biblioteka i učitavanje podataka\n",
    "\n",
    "import numpy as np\n",
    "import pandas as pd\n",
    "import matplotlib.pyplot as plt\n",
    "%matplotlib inline\n",
    "import seaborn as sns\n",
    "from matplotlib import rcParams\n",
    "\n",
    "# Stilizacija grafikona\n",
    "plt.style.use(\"ggplot\")\n",
    "rcParams['figure.figsize'] = (12, 6)\n",
    "\n",
    "# Ucitavanje podataka o potrosnji\n",
    "data_path = 'Datasets/PERSONAL HOUSEHOLD CONSUMPTION, MONTHLY AVERAGE.csv'\n",
    "data = pd.read_csv(data_path, sep=';')\n",
    "\n",
    "# Ucitavanje podataka o platama\n",
    "salary_data_path = 'Datasets/plate-godisnji-prosek.xlsx'\n",
    "salary_data = pd.read_excel(salary_data_path)\n",
    "\n",
    "# Izracunavanje procesne mesecne zarade\n",
    "salary_data['Prosecna mesecna zarada'] = salary_data['Prosecna godisnja zarada'] / 12\n"
   ]
  },
  {
   "cell_type": "code",
   "execution_count": null,
   "metadata": {},
   "outputs": [],
   "source": [
    "# Provera tipova podataka\n",
    "data_types = data.dtypes\n",
    "print(data_types)"
   ]
  },
  {
   "cell_type": "code",
   "execution_count": null,
   "metadata": {},
   "outputs": [],
   "source": [
    "# Provera dimenzije podataka\n",
    "np.shape(data)"
   ]
  },
  {
   "cell_type": "code",
   "execution_count": null,
   "metadata": {},
   "outputs": [],
   "source": [
    "\n",
    "# Provera nedostajućih vrednosti\n",
    "missing_values = data.isnull().sum()"
   ]
  },
  {
   "cell_type": "code",
   "execution_count": null,
   "metadata": {},
   "outputs": [],
   "source": [
    "# Koristimo Pandas DataFrame za bolju strukturu podataka\n",
    "df = pd.DataFrame(data)\n",
    "df.head()"
   ]
  },
  {
   "cell_type": "code",
   "execution_count": null,
   "metadata": {},
   "outputs": [],
   "source": [
    "# Osnovne statistike podataka - Opis\n",
    "df.describe()"
   ]
  },
  {
   "cell_type": "code",
   "execution_count": null,
   "metadata": {},
   "outputs": [],
   "source": [
    "# Osnovne statistike podataka - Opis\n",
    "df.info()"
   ]
  },
  {
   "cell_type": "code",
   "execution_count": null,
   "metadata": {},
   "outputs": [],
   "source": [
    "# Provera duplikata\n",
    "df.duplicated().sum()"
   ]
  },
  {
   "cell_type": "code",
   "execution_count": null,
   "metadata": {},
   "outputs": [],
   "source": [
    "# Provera vrednosti (koliko imamo podataka)\n",
    "df.nTer.value_counts()"
   ]
  },
  {
   "cell_type": "code",
   "execution_count": null,
   "metadata": {},
   "outputs": [],
   "source": [
    "# Provera vrednosti (koliko imamo podataka)\n",
    "df.nCOICOP.value_counts()"
   ]
  },
  {
   "cell_type": "code",
   "execution_count": 85,
   "metadata": {},
   "outputs": [],
   "source": [
    "# ------- Vizualizacija podataka ------- #"
   ]
  },
  {
   "cell_type": "code",
   "execution_count": 90,
   "metadata": {},
   "outputs": [
    {
     "data": {
      "image/png": "[encoded data removed]",
      "text/plain": [
       "<Figure size 1200x600 with 1 Axes>"
      ]
     },
     "metadata": {},
     "output_type": "display_data"
    },
    {
     "data": {
      "text/plain": [
       "<Figure size 1400x800 with 0 Axes>"
      ]
     },
     "metadata": {},
     "output_type": "display_data"
    }
   ],
   "source": [
    "# Prikaz zastupljenosti potrosnje u vrednosti RSD\n",
    "hist_vrednost = df[(df['nVrPod'] == 'RSD') & (data['nCOICOP'] == 'Total') & (data['nTipNaselja'] != 'Total')]\n",
    "# Definisanje opsega za bins\n",
    "bins = [20000, 30000, 40000, 50000, 60000, 70000, 80000, 90000]\n",
    "# Crtanje histograma\n",
    "plt.hist(hist_vrednost.vrednost,bins=bins)\n",
    "# Podesavanje x-ose\n",
    "plt.xticks(range(20000,90000,10000), rotation=90)\n",
    "# Podesavanje velicine grafa\n",
    "plt.figure(figsize=(14,8))\n",
    "# Prikazivanje grafikona\n",
    "plt.show()"
   ]
  },
  {
   "cell_type": "code",
   "execution_count": null,
   "metadata": {},
   "outputs": [],
   "source": [
    "# Priprema podataka za potrošnju po godinama\n",
    "data_total_rsd = data[(data['nCOICOP'] == 'Total') & (data['nVrPod'] == 'RSD') & (data['nTer'] == 'REPUBLIC OF SERBIA')]\n",
    "\n",
    "# Priprema podataka za potrošnju po tipu naselja\n",
    "data_by_settlement_type = data[(data['nTipNaselja'] != 'Total') & (data['nCOICOP'] == 'Total') & (data['nVrPod'] == 'RSD') & (data['nTer'] == 'REPUBLIC OF SERBIA')]\n",
    "\n",
    "# Spajanje podataka o potrošnji i zaradi\n",
    "combined_data = data_total_rsd.merge(salary_data, left_on='god', right_on='Godina', how='left')\n",
    "\n",
    "\n",
    "# Vizualizacija ukupne potrošnje, prosečnih mesečnih zarada i potrošnje po tipu naselja\n",
    "plt.figure(figsize=(14, 8))\n",
    "sns.lineplot(x='god', y='vrednost', data=combined_data, marker='o', label='Ukupna potrošnja (RSD)', color='blue')\n",
    "sns.lineplot(x='god', y='Prosecna mesecna zarada', data=combined_data, marker='o', color='red', label='Prosečna mesečna zarada')\n",
    "sns.lineplot(x='god', y='vrednost', hue='nTipNaselja', data=data_by_settlement_type, marker='o', palette='deep')\n",
    "\n",
    "# Formatiranje grafikona\n",
    "plt.title('Potrošnja i Prosečna mesečna zarada u Republici Srbiji po godinama i tipu naselja')\n",
    "plt.xlabel('Godina')\n",
    "plt.ylabel('Vrednost / Zarada')\n",
    "plt.xticks(combined_data['god'].unique())\n",
    "plt.legend(title='Legenda', bbox_to_anchor=(1.05, 1), loc='upper left')\n",
    "plt.grid(True)\n",
    "plt.tight_layout()\n",
    "plt.show()"
   ]
  },
  {
   "cell_type": "code",
   "execution_count": null,
   "metadata": {},
   "outputs": [],
   "source": [
    "# Filtriranje podataka za sve kategorije osim 'Total'\n",
    "data_not_total_rsd = data[(data['nCOICOP'] != 'Total') & (data['nVrPod'] == 'RSD') & (data['nTer'] == 'REPUBLIC OF SERBIA')]\n",
    "\n",
    "# Sortiranje podataka po godinama i kategorijama za korektno prikazivanje u grafikonu\n",
    "data_not_total_rsd_sorted = data_not_total_rsd.sort_values(by=['god', 'IDCOICOP'])\n",
    "\n",
    "# Vizualizacija potrošnje po kategorijama\n",
    "plt.figure(figsize=(14, 8))\n",
    "sns.lineplot(x='god', y='vrednost', hue='nCOICOP', data=data_not_total_rsd_sorted, marker='o', palette='tab10')\n",
    "\n",
    "# Formatiranje grafikona\n",
    "plt.title('Potrošnja u Republici Srbiji po Kategorijama (osim Total) po godinama')\n",
    "plt.xlabel('Godina')\n",
    "plt.ylabel('Vrednost')\n",
    "plt.xticks(data_not_total_rsd_sorted['god'].unique())\n",
    "plt.legend(title='Kategorija', bbox_to_anchor=(1.05, 1), loc='upper left')\n",
    "plt.grid(True)\n",
    "plt.tight_layout()\n",
    "plt.show()\n"
   ]
  },
  {
   "cell_type": "code",
   "execution_count": null,
   "metadata": {},
   "outputs": [],
   "source": [
    "# Graf A - Potrošnja po Kategorijama\n",
    "plt.figure(figsize=(14, 6))\n",
    "sns.lineplot(data=data_graph_a, x='god', y='vrednost', hue='nCOICOP', palette='tab10')\n",
    "plt.title('Potrošnja po Kategorijama - Graf A')\n",
    "plt.xlabel('Godina')\n",
    "plt.ylabel('Vrednost')\n",
    "plt.legend(title='Kategorija', bbox_to_anchor=(1.05, 1), loc='upper left')\n",
    "plt.grid(True)\n",
    "plt.show()\n"
   ]
  },
  {
   "cell_type": "code",
   "execution_count": null,
   "metadata": {},
   "outputs": [],
   "source": [
    "# Graf B - Potrošnja po Kategorijama\n",
    "plt.figure(figsize=(14, 6))\n",
    "sns.lineplot(data=data_graph_b, x='god', y='vrednost', hue='nCOICOP', palette='tab10')\n",
    "plt.title('Potrošnja po Kategorijama - Graf B')\n",
    "plt.xlabel('Godina')\n",
    "plt.ylabel('Vrednost')\n",
    "plt.legend(title='Kategorija', bbox_to_anchor=(1.05, 1), loc='upper left')\n",
    "plt.grid(True)\n",
    "plt.show()\n"
   ]
  },
  {
   "cell_type": "code",
   "execution_count": null,
   "metadata": {},
   "outputs": [],
   "source": [
    "# Graf C - Potrošnja po Kategorijama\n",
    "plt.figure(figsize=(14, 6))\n",
    "sns.lineplot(data=data_graph_c, x='god', y='vrednost', hue='nCOICOP', palette='tab10')\n",
    "plt.title('Potrošnja po Kategorijama - Graf C')\n",
    "plt.xlabel('Godina')\n",
    "plt.ylabel('Vrednost')\n",
    "plt.legend(title='Kategorija', bbox_to_anchor=(1.05, 1), loc='upper left')\n",
    "plt.grid(True)\n",
    "plt.show()\n"
   ]
  }
 ],
 "metadata": {
  "kernelspec": {
   "display_name": "Python 3",
   "language": "python",
   "name": "python3"
  },
  "language_info": {
   "codemirror_mode": {
    "name": "ipython",
    "version": 3
   },
   "file_extension": ".py",
   "mimetype": "text/x-python",
   "name": "python",
   "nbconvert_exporter": "python",
   "pygments_lexer": "ipython3",
   "version": "3.11.8"
  }
 },
 "nbformat": 4,
 "nbformat_minor": 2
}
